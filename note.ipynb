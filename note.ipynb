{
 "cells": [
  {
   "cell_type": "code",
   "execution_count": 8,
   "metadata": {},
   "outputs": [],
   "source": [
    "import pandas as pd\n",
    "import os\n"
   ]
  },
  {
   "cell_type": "code",
   "execution_count": 10,
   "metadata": {},
   "outputs": [],
   "source": [
    "path = os.getcwd()\n",
    "nameFileActualizacion = \"Actualizacion Aseguramientos 2024.xlsx\"\n",
    "nameFilenAnalisis = \"Analisis_Aseg2024.xlsx\"\n",
    "nameFileControl = \"Control de entradas aseguramientos 2024.xlsx\"\n",
    "pathFileActualizacion = os.path.join(path,\"docs\",nameFileActualizacion)\n",
    "pathFileAnalisis = os.path.join(path,\"docs\",nameFilenAnalisis)\n",
    "pathFileControl = os.path.join(path,\"docs\",nameFileControl)\n",
    "columsActulizacion = ['FOLIO SUGO','ORIGEN FOLIO','TIPO DE OFICIO','OFICIO AUTORIDAD','EXPEDIENTE AUTORIDAD','FOLIO SITI','AUTORIDAD','FECHA RECEPCIÓN','TERMINO(Dias)','FECHA VENCIMIENTO','ESTATUS','PARICAL']\n",
    "columsControl = ['FOLIO SUGO','FECHACIERRE','ANALISTA','TIPO RESPUESTA','FECHA ASINADO A JURIDICO','ETAPA DEL PROCESO']\n",
    "columsAnalisis = ['NO. DE PRORROGAS','ESTATUS DE PRORROGA','FECHA VENCIMIENTO FINAL','FOLIO SUGO']\n",
    "dfActualizacion = pd.read_excel(pathFileActualizacion, sheet_name=\"Entradas\")\n",
    "dfActualizacion = dfActualizacion[columsActulizacion]\n",
    "dfAnalisis =  pd.read_excel(pathFileAnalisis, sheet_name=\"PRORROGAS\")\n",
    "dfAnalisis = dfAnalisis[columsAnalisis]\n",
    "dfControl = pd.read_excel(pathFileControl, sheet_name=\"cierre\")\n",
    "dfControl.columns = dfControl.columns.str.replace('CONSECUTIVO', 'FOLIO SUGO')\n",
    "dfControl = dfControl[columsControl]\n",
    "\n",
    "dfActualizacion = dfActualizacion.merge(dfAnalisis,how='left',on='FOLIO SUGO')\n",
    "dfActualizacion = dfActualizacion.merge(dfControl,how='left',on='FOLIO SUGO')\n",
    "dfActualizacion = dfActualizacion.drop_duplicates(['FOLIO SUGO'],keep=\"last\")\n",
    "#dfActualizacion['RESULTADO_INDENTIFICACION'] = \"\"\n",
    "#dfActualizacion.insert(2,'RESULTADO_INDENTIFICACION', \"\")\n",
    "dfActualizacion.to_csv('data_final.csv', header=True, index=False)\n",
    "\n",
    "\n"
   ]
  }
 ],
 "metadata": {
  "kernelspec": {
   "display_name": "Python 3",
   "language": "python",
   "name": "python3"
  },
  "language_info": {
   "codemirror_mode": {
    "name": "ipython",
    "version": 3
   },
   "file_extension": ".py",
   "mimetype": "text/x-python",
   "name": "python",
   "nbconvert_exporter": "python",
   "pygments_lexer": "ipython3",
   "version": "3.9.13"
  }
 },
 "nbformat": 4,
 "nbformat_minor": 2
}
